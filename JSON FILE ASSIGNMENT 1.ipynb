{
 "cells": [
  {
   "cell_type": "code",
   "execution_count": null,
   "id": "2fa3863e",
   "metadata": {},
   "outputs": [],
   "source": [
    "#employe details "
   ]
  },
  {
   "cell_type": "code",
   "execution_count": 11,
   "id": "5a8969c4",
   "metadata": {},
   "outputs": [
    {
     "name": "stdout",
     "output_type": "stream",
     "text": [
      "{\n",
      " \"name\": \"ajay\",\n",
      " \"DOB\": \"11/02/2000\",\n",
      " \"Height\": \"5.7\",\n",
      " \"city\": \"Hyderabad\",\n",
      " \"state\": \"Telangana\"\n",
      "}\n"
     ]
    }
   ],
   "source": [
    "#employe1\n",
    "import json\n",
    "   \n",
    "employe ={ \"name\":\"ajay\",\"DOB\":\"11/02/2000\", \"Height\":\"5.7\", \"city\":\"Hyderabad\", \"state\":\"Telangana\"}\n",
    "    \n",
    "json_object = json.dumps(employe, indent = 1)\n",
    "print(json_object)"
   ]
  },
  {
   "cell_type": "code",
   "execution_count": 6,
   "id": "bee7d861",
   "metadata": {
    "scrolled": true
   },
   "outputs": [
    {
     "name": "stdout",
     "output_type": "stream",
     "text": [
      "{\n",
      " \"name\": \"sunil\",\n",
      " \"DOB\": \"10/02/2000\",\n",
      " \"Height\": \"5.9\",\n",
      " \"city\": \"Hyderabad\",\n",
      " \"state\": \"Telangana\"\n",
      "}\n"
     ]
    }
   ],
   "source": [
    "#employe2\n",
    "import json\n",
    "   \n",
    "employe ={ \"name\":\"sunil\",\"DOB\":\"10/02/2000\", \"Height\":\"5.9\", \"city\":\"Hyderabad\", \"state\":\"Telangana\"}\n",
    "    \n",
    "json_object = json.dumps(employe, indent = 1)\n",
    "print(json_object)"
   ]
  },
  {
   "cell_type": "code",
   "execution_count": 8,
   "id": "d7dc5444",
   "metadata": {},
   "outputs": [
    {
     "name": "stdout",
     "output_type": "stream",
     "text": [
      "{\n",
      " \"name\": \"uday\",\n",
      " \"DOB\": \"10/05/2002\",\n",
      " \"Height\": \"6.0\",\n",
      " \"city\": \"Hyderabad\",\n",
      " \"state\": \"Telangana\"\n",
      "}\n"
     ]
    }
   ],
   "source": [
    "#employe3\n",
    "import json\n",
    "   \n",
    "employe ={ \"name\":\"uday\",\"DOB\":\"10/05/2002\", \"Height\":\"6.0\", \"city\":\"Hyderabad\", \"state\":\"Telangana\"}\n",
    "    \n",
    "json_object = json.dumps(employe, indent = 1)\n",
    "print(json_object)"
   ]
  },
  {
   "cell_type": "code",
   "execution_count": 9,
   "id": "0dbfaf13",
   "metadata": {},
   "outputs": [
    {
     "name": "stdout",
     "output_type": "stream",
     "text": [
      "{\n",
      " \"name\": \"krishna\",\n",
      " \"DOB\": \"10/02/2000\",\n",
      " \"Height\": \"5.95\",\n",
      " \"city\": \"Hyderabad\",\n",
      " \"state\": \"Telangana\"\n",
      "}\n"
     ]
    }
   ],
   "source": [
    "#employe4\n",
    "import json\n",
    "   \n",
    "employe ={ \"name\":\"krishna\",\"DOB\":\"10/02/2000\", \"Height\":\"5.95\", \"city\":\"Hyderabad\", \"state\":\"Telangana\"}\n",
    "    \n",
    "json_object = json.dumps(employe, indent = 1)\n",
    "print(json_object)"
   ]
  },
  {
   "cell_type": "code",
   "execution_count": 10,
   "id": "84beb829",
   "metadata": {},
   "outputs": [
    {
     "name": "stdout",
     "output_type": "stream",
     "text": [
      "{\n",
      " \"Telanagan\": \"hyderabad\",\n",
      " \"Tamilnadu\": \"Chenni\",\n",
      " \"Maharasta\": \"Mumbai\",\n",
      " \"Punjab\": \"Chandigarh\",\n",
      " \"Karnatka\": \"Bangolre\",\n",
      " \"goa\": \"panaji\",\n",
      " \"Gujarath\": \"Gandinagar\"\n",
      "}\n"
     ]
    }
   ],
   "source": [
    "# create a dictonsry of any 7 indian states and thier capitals write this into json file \n",
    "import json\n",
    "   \n",
    "employe ={\"Telanagan\":\"hyderabad\",\"Tamilnadu\":\"Chenni\",\"Maharasta\":\"Mumbai\",\"Punjab\":\"Chandigarh\",\"Karnatka\":\"Bangolre\",\n",
    "               \"goa\":\"panaji\",\"Gujarath\":\"Gandinagar\",}\n",
    "    \n",
    "json_object = json.dumps(employe, indent = 1)\n",
    "print(json_object)"
   ]
  },
  {
   "cell_type": "code",
   "execution_count": null,
   "id": "925f0fe4",
   "metadata": {},
   "outputs": [],
   "source": []
  }
 ],
 "metadata": {
  "kernelspec": {
   "display_name": "Python 3 (ipykernel)",
   "language": "python",
   "name": "python3"
  },
  "language_info": {
   "codemirror_mode": {
    "name": "ipython",
    "version": 3
   },
   "file_extension": ".py",
   "mimetype": "text/x-python",
   "name": "python",
   "nbconvert_exporter": "python",
   "pygments_lexer": "ipython3",
   "version": "3.9.13"
  }
 },
 "nbformat": 4,
 "nbformat_minor": 5
}
