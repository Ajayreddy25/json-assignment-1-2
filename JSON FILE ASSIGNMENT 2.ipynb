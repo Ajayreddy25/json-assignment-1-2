{
 "cells": [
  {
   "cell_type": "code",
   "execution_count": null,
   "id": "86d306a4",
   "metadata": {},
   "outputs": [],
   "source": [
    "#. Create a class named ‘Dog’. It should have a constructor which accepts its name, age"
   ]
  },
  {
   "cell_type": "code",
   "execution_count": 25,
   "id": "719d2270",
   "metadata": {},
   "outputs": [
    {
     "name": "stdout",
     "output_type": "stream",
     "text": [
      "My dog's name is jackRussellTerrier.\n",
      "My dog is 6 years old.\n",
      "My dog colour is black\n"
     ]
    }
   ],
   "source": [
    "class Dog: \n",
    "\n",
    "    def __init__(self, name, age,): \n",
    "        self.name = name\n",
    "        self.age = age\n",
    "     \n",
    "   \n",
    "\n",
    "my_dog = Dog(name='jackRussellTerrier', age=6)\n",
    "\n",
    "print(\"My dog's name is \" + my_dog.name + \".\")\n",
    "print(\"My dog is \" + str(my_dog.age) + \" years old.\")\n",
    "print(\"My dog colour is black\")"
   ]
  },
  {
   "cell_type": "code",
   "execution_count": null,
   "id": "468ad34f",
   "metadata": {},
   "outputs": [],
   "source": []
  },
  {
   "cell_type": "code",
   "execution_count": null,
   "id": "bf6f6cba",
   "metadata": {},
   "outputs": [],
   "source": []
  }
 ],
 "metadata": {
  "kernelspec": {
   "display_name": "Python 3 (ipykernel)",
   "language": "python",
   "name": "python3"
  },
  "language_info": {
   "codemirror_mode": {
    "name": "ipython",
    "version": 3
   },
   "file_extension": ".py",
   "mimetype": "text/x-python",
   "name": "python",
   "nbconvert_exporter": "python",
   "pygments_lexer": "ipython3",
   "version": "3.9.13"
  }
 },
 "nbformat": 4,
 "nbformat_minor": 5
}
